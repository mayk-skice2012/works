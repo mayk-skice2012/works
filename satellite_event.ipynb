{
  "metadata": {
    "language_info": {
      "codemirror_mode": {
        "name": "python",
        "version": 3
      },
      "file_extension": ".py",
      "mimetype": "text/x-python",
      "name": "python",
      "nbconvert_exporter": "python",
      "pygments_lexer": "ipython3",
      "version": "3.8"
    },
    "kernelspec": {
      "name": "python",
      "display_name": "Python (Pyodide)",
      "language": "python"
    }
  },
  "nbformat_minor": 4,
  "nbformat": 4,
  "cells": [
    {
      "cell_type": "code",
      "source": "import numpy as np\nimport matplotlib.pyplot as plt\nimport piplite\nawait piplite.install('pandas')\nimport pandas as pd",
      "metadata": {
        "trusted": true
      },
      "execution_count": 20,
      "outputs": []
    },
    {
      "cell_type": "code",
      "source": "#新しくデータフレームを作る\n\n # Station names\nbasyo = [\"宇宙の店\",\"浜松町駅\",\"東京タワー\",\"六本木\"]\n\nido = [35.65516, 35.655611, 35.65879, 35.6625]\nkeido = [139.75634, 139.75656, 139.74630, 139.73243]\n\n\ndata = pd.DataFrame(data={\"ばしょ\": basyo, \"いど\": ido, \"けいど\": keido})\ndata",
      "metadata": {
        "trusted": true
      },
      "execution_count": 21,
      "outputs": [
        {
          "execution_count": 21,
          "output_type": "execute_result",
          "data": {
            "text/plain": "     ばしょ         いど        けいど\n0   宇宙の店  35.655160  139.75634\n1   浜松町駅  35.655611  139.75656\n2  東京タワー  35.658790  139.74630\n3    六本木  35.662500  139.73243",
            "text/html": "<div>\n<style scoped>\n    .dataframe tbody tr th:only-of-type {\n        vertical-align: middle;\n    }\n\n    .dataframe tbody tr th {\n        vertical-align: top;\n    }\n\n    .dataframe thead th {\n        text-align: right;\n    }\n</style>\n<table border=\"1\" class=\"dataframe\">\n  <thead>\n    <tr style=\"text-align: right;\">\n      <th></th>\n      <th>ばしょ</th>\n      <th>いど</th>\n      <th>けいど</th>\n    </tr>\n  </thead>\n  <tbody>\n    <tr>\n      <th>0</th>\n      <td>宇宙の店</td>\n      <td>35.655160</td>\n      <td>139.75634</td>\n    </tr>\n    <tr>\n      <th>1</th>\n      <td>浜松町駅</td>\n      <td>35.655611</td>\n      <td>139.75656</td>\n    </tr>\n    <tr>\n      <th>2</th>\n      <td>東京タワー</td>\n      <td>35.658790</td>\n      <td>139.74630</td>\n    </tr>\n    <tr>\n      <th>3</th>\n      <td>六本木</td>\n      <td>35.662500</td>\n      <td>139.73243</td>\n    </tr>\n  </tbody>\n</table>\n</div>"
          },
          "metadata": {}
        }
      ]
    },
    {
      "cell_type": "code",
      "source": "await piplite.install('folium')\nimport folium",
      "metadata": {
        "trusted": true
      },
      "execution_count": 22,
      "outputs": []
    },
    {
      "cell_type": "code",
      "source": "#データがどのくらいの長さを計る。dataという箱に何個データがあるの？\nlength = len(data)\n\n#はこの中に入っている個数の箱　（例）dataに3こデータが入っていたら、このsuujiは[0,1,2]になります\nsuuji = np.array(range(length))\n\nlist = suuji.tolist()\n\ndata[\"list\"] = list\n\n#地図に表示するための箱を作ります\nlatitude = data[\"いど\"]\nlongtude = data[\"けいど\"]\npoint = data[\"list\"]\n\n\n\n \ncities = pd.DataFrame({\n    'point': point[0::],\n    'latitude': ido[0::],\n    'longtude': keido[0::],\n})\n \n#locationは上で決めた一番最初の地点の緯度経度を入れてください。\nmymap = folium.Map(location=[35.65516, 139.75634], zoom_start=14) #変更部分: locationの緯度軽度はcsvの一番初めの緯度軽度をコピペ。\n\n#forは同じ処理を繰り返してください、という意味です。\n# i = r = 0から始まって、順番にマップにマーカーをつけてください、と言っています。\nfor i, r in cities.iterrows():\n    folium.Marker(location=[r['latitude'], r['longtude']], popup=r['point']).add_to(mymap)\n\n\nmymap",
      "metadata": {
        "trusted": true
      },
      "execution_count": 25,
      "outputs": [
        {
          "execution_count": 25,
          "output_type": "execute_result",
          "data": {
            "text/plain": "<folium.folium.Map at 0x6243430>",
            "text/html": "<div style=\"width:100%;\"><div style=\"position:relative;width:100%;height:0;padding-bottom:60%;\"><span style=\"color:#565656\">Make this Notebook Trusted to load map: File -> Trust Notebook</span><iframe srcdoc=\"&lt;!DOCTYPE html&gt;\n&lt;head&gt;    \n    &lt;meta http-equiv=&quot;content-type&quot; content=&quot;text/html; charset=UTF-8&quot; /&gt;\n    \n        &lt;script&gt;\n            L_NO_TOUCH = false;\n            L_DISABLE_3D = false;\n        &lt;/script&gt;\n    \n    &lt;style&gt;html, body {width: 100%;height: 100%;margin: 0;padding: 0;}&lt;/style&gt;\n    &lt;style&gt;#map {position:absolute;top:0;bottom:0;right:0;left:0;}&lt;/style&gt;\n    &lt;script src=&quot;https://cdn.jsdelivr.net/npm/leaflet@1.6.0/dist/leaflet.js&quot;&gt;&lt;/script&gt;\n    &lt;script src=&quot;https://code.jquery.com/jquery-1.12.4.min.js&quot;&gt;&lt;/script&gt;\n    &lt;script src=&quot;https://maxcdn.bootstrapcdn.com/bootstrap/3.2.0/js/bootstrap.min.js&quot;&gt;&lt;/script&gt;\n    &lt;script src=&quot;https://cdnjs.cloudflare.com/ajax/libs/Leaflet.awesome-markers/2.0.2/leaflet.awesome-markers.js&quot;&gt;&lt;/script&gt;\n    &lt;link rel=&quot;stylesheet&quot; href=&quot;https://cdn.jsdelivr.net/npm/leaflet@1.6.0/dist/leaflet.css&quot;/&gt;\n    &lt;link rel=&quot;stylesheet&quot; href=&quot;https://maxcdn.bootstrapcdn.com/bootstrap/3.2.0/css/bootstrap.min.css&quot;/&gt;\n    &lt;link rel=&quot;stylesheet&quot; href=&quot;https://maxcdn.bootstrapcdn.com/bootstrap/3.2.0/css/bootstrap-theme.min.css&quot;/&gt;\n    &lt;link rel=&quot;stylesheet&quot; href=&quot;https://maxcdn.bootstrapcdn.com/font-awesome/4.6.3/css/font-awesome.min.css&quot;/&gt;\n    &lt;link rel=&quot;stylesheet&quot; href=&quot;https://cdnjs.cloudflare.com/ajax/libs/Leaflet.awesome-markers/2.0.2/leaflet.awesome-markers.css&quot;/&gt;\n    &lt;link rel=&quot;stylesheet&quot; href=&quot;https://cdn.jsdelivr.net/gh/python-visualization/folium/folium/templates/leaflet.awesome.rotate.min.css&quot;/&gt;\n    \n            &lt;meta name=&quot;viewport&quot; content=&quot;width=device-width,\n                initial-scale=1.0, maximum-scale=1.0, user-scalable=no&quot; /&gt;\n            &lt;style&gt;\n                #map_bf36bf65c33c6c80b2f7f68d04e93697 {\n                    position: relative;\n                    width: 100.0%;\n                    height: 100.0%;\n                    left: 0.0%;\n                    top: 0.0%;\n                }\n            &lt;/style&gt;\n        \n&lt;/head&gt;\n&lt;body&gt;    \n    \n            &lt;div class=&quot;folium-map&quot; id=&quot;map_bf36bf65c33c6c80b2f7f68d04e93697&quot; &gt;&lt;/div&gt;\n        \n&lt;/body&gt;\n&lt;script&gt;    \n    \n            var map_bf36bf65c33c6c80b2f7f68d04e93697 = L.map(\n                &quot;map_bf36bf65c33c6c80b2f7f68d04e93697&quot;,\n                {\n                    center: [35.65516, 139.75634],\n                    crs: L.CRS.EPSG3857,\n                    zoom: 14,\n                    zoomControl: true,\n                    preferCanvas: false,\n                }\n            );\n\n            \n\n        \n    \n            var tile_layer_2f798086d070c01c33001e92dada5ce1 = L.tileLayer(\n                &quot;https://{s}.tile.openstreetmap.org/{z}/{x}/{y}.png&quot;,\n                {&quot;attribution&quot;: &quot;Data by \\u0026copy; \\u003ca href=\\&quot;http://openstreetmap.org\\&quot;\\u003eOpenStreetMap\\u003c/a\\u003e, under \\u003ca href=\\&quot;http://www.openstreetmap.org/copyright\\&quot;\\u003eODbL\\u003c/a\\u003e.&quot;, &quot;detectRetina&quot;: false, &quot;maxNativeZoom&quot;: 18, &quot;maxZoom&quot;: 18, &quot;minZoom&quot;: 0, &quot;noWrap&quot;: false, &quot;opacity&quot;: 1, &quot;subdomains&quot;: &quot;abc&quot;, &quot;tms&quot;: false}\n            ).addTo(map_bf36bf65c33c6c80b2f7f68d04e93697);\n        \n    \n            var marker_43065917922bd9158b6e7e26fd962ae0 = L.marker(\n                [35.65516, 139.75634],\n                {}\n            ).addTo(map_bf36bf65c33c6c80b2f7f68d04e93697);\n        \n    \n        var popup_b3e0b7bd188be1f0cde89b7760b58a0f = L.popup({&quot;maxWidth&quot;: &quot;100%&quot;});\n\n        \n            var html_5a217fb469bac6302a46d0a65dc42de4 = $(`&lt;div id=&quot;html_5a217fb469bac6302a46d0a65dc42de4&quot; style=&quot;width: 100.0%; height: 100.0%;&quot;&gt;0.0&lt;/div&gt;`)[0];\n            popup_b3e0b7bd188be1f0cde89b7760b58a0f.setContent(html_5a217fb469bac6302a46d0a65dc42de4);\n        \n\n        marker_43065917922bd9158b6e7e26fd962ae0.bindPopup(popup_b3e0b7bd188be1f0cde89b7760b58a0f)\n        ;\n\n        \n    \n    \n            var marker_39c3f901d55472a825ffb2d13f424420 = L.marker(\n                [35.655611, 139.75656],\n                {}\n            ).addTo(map_bf36bf65c33c6c80b2f7f68d04e93697);\n        \n    \n        var popup_18fd2da3f1cf797b9fbdf86453e81843 = L.popup({&quot;maxWidth&quot;: &quot;100%&quot;});\n\n        \n            var html_f2c3808dd31baee8c038ce87a9d18dc9 = $(`&lt;div id=&quot;html_f2c3808dd31baee8c038ce87a9d18dc9&quot; style=&quot;width: 100.0%; height: 100.0%;&quot;&gt;1.0&lt;/div&gt;`)[0];\n            popup_18fd2da3f1cf797b9fbdf86453e81843.setContent(html_f2c3808dd31baee8c038ce87a9d18dc9);\n        \n\n        marker_39c3f901d55472a825ffb2d13f424420.bindPopup(popup_18fd2da3f1cf797b9fbdf86453e81843)\n        ;\n\n        \n    \n    \n            var marker_6e30c1f199428da67a0a6fb4ce38b65b = L.marker(\n                [35.65879, 139.7463],\n                {}\n            ).addTo(map_bf36bf65c33c6c80b2f7f68d04e93697);\n        \n    \n        var popup_4c6aebd7e2f3adc969b13a5632b2002e = L.popup({&quot;maxWidth&quot;: &quot;100%&quot;});\n\n        \n            var html_d3c34bc0ab8fb89109edb49e62724c1b = $(`&lt;div id=&quot;html_d3c34bc0ab8fb89109edb49e62724c1b&quot; style=&quot;width: 100.0%; height: 100.0%;&quot;&gt;2.0&lt;/div&gt;`)[0];\n            popup_4c6aebd7e2f3adc969b13a5632b2002e.setContent(html_d3c34bc0ab8fb89109edb49e62724c1b);\n        \n\n        marker_6e30c1f199428da67a0a6fb4ce38b65b.bindPopup(popup_4c6aebd7e2f3adc969b13a5632b2002e)\n        ;\n\n        \n    \n    \n            var marker_3fb639c23464004cff25931a08492866 = L.marker(\n                [35.6625, 139.73243],\n                {}\n            ).addTo(map_bf36bf65c33c6c80b2f7f68d04e93697);\n        \n    \n        var popup_5ec35cc3e9c20f04ec4ce2ba29e6aaad = L.popup({&quot;maxWidth&quot;: &quot;100%&quot;});\n\n        \n            var html_b60e3d4b1ac2d01b389f4eb0f71bd3ed = $(`&lt;div id=&quot;html_b60e3d4b1ac2d01b389f4eb0f71bd3ed&quot; style=&quot;width: 100.0%; height: 100.0%;&quot;&gt;3.0&lt;/div&gt;`)[0];\n            popup_5ec35cc3e9c20f04ec4ce2ba29e6aaad.setContent(html_b60e3d4b1ac2d01b389f4eb0f71bd3ed);\n        \n\n        marker_3fb639c23464004cff25931a08492866.bindPopup(popup_5ec35cc3e9c20f04ec4ce2ba29e6aaad)\n        ;\n\n        \n    \n&lt;/script&gt;\" style=\"position:absolute;width:100%;height:100%;left:0;top:0;border:none !important;\" allowfullscreen webkitallowfullscreen mozallowfullscreen></iframe></div></div>"
          },
          "metadata": {}
        }
      ]
    },
    {
      "cell_type": "code",
      "source": "",
      "metadata": {},
      "execution_count": null,
      "outputs": []
    }
  ]
}